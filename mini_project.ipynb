{
  "nbformat": 4,
  "nbformat_minor": 0,
  "metadata": {
    "colab": {
      "name": " mini project.ipynb",
      "provenance": [],
      "collapsed_sections": [],
      "include_colab_link": true
    },
    "kernelspec": {
      "name": "python3",
      "display_name": "Python 3"
    },
    "language_info": {
      "name": "python"
    }
  },
  "cells": [
    {
      "cell_type": "markdown",
      "metadata": {
        "id": "view-in-github",
        "colab_type": "text"
      },
      "source": [
        "<a href=\"https://colab.research.google.com/github/Sushma-tadikamalla/-mini-project.ipynb/blob/main/mini_project.ipynb\" target=\"_parent\"><img src=\"https://colab.research.google.com/assets/colab-badge.svg\" alt=\"Open In Colab\"/></a>"
      ]
    },
    {
      "cell_type": "markdown",
      "metadata": {
        "id": "hxnmOGBs41SP"
      },
      "source": [
        "My code"
      ]
    },
    {
      "cell_type": "code",
      "metadata": {
        "id": "3vMQ20mwDcyg",
        "colab": {
          "base_uri": "https://localhost:8080/"
        },
        "outputId": "6387edd6-5e7c-4e45-9e27-ebc670c4fe37"
      },
      "source": [
        "!pip install bing-image-downloader "
      ],
      "execution_count": 1,
      "outputs": [
        {
          "output_type": "stream",
          "text": [
            "Collecting bing-image-downloader\n",
            "  Downloading https://files.pythonhosted.org/packages/0d/bf/537a61030b84ae4cd5022d5c7b014fd9bc3ce7c02358919153a6658a61d3/bing_image_downloader-1.0.4-py3-none-any.whl\n",
            "Installing collected packages: bing-image-downloader\n",
            "Successfully installed bing-image-downloader-1.0.4\n"
          ],
          "name": "stdout"
        }
      ]
    },
    {
      "cell_type": "code",
      "metadata": {
        "id": "lqH01Hv-W_Lw",
        "colab": {
          "base_uri": "https://localhost:8080/"
        },
        "outputId": "d738b0e9-228a-4138-d253-46ba9b008a18"
      },
      "source": [
        "!pip install ipython-autotime\n",
        "%load_ext autotime"
      ],
      "execution_count": 2,
      "outputs": [
        {
          "output_type": "stream",
          "text": [
            "Collecting ipython-autotime\n",
            "  Downloading https://files.pythonhosted.org/packages/b4/c9/b413a24f759641bc27ef98c144b590023c8038dfb8a3f09e713e9dff12c1/ipython_autotime-0.3.1-py2.py3-none-any.whl\n",
            "Requirement already satisfied: ipython in /usr/local/lib/python3.7/dist-packages (from ipython-autotime) (5.5.0)\n",
            "Requirement already satisfied: decorator in /usr/local/lib/python3.7/dist-packages (from ipython->ipython-autotime) (4.4.2)\n",
            "Requirement already satisfied: setuptools>=18.5 in /usr/local/lib/python3.7/dist-packages (from ipython->ipython-autotime) (56.1.0)\n",
            "Requirement already satisfied: pexpect; sys_platform != \"win32\" in /usr/local/lib/python3.7/dist-packages (from ipython->ipython-autotime) (4.8.0)\n",
            "Requirement already satisfied: pygments in /usr/local/lib/python3.7/dist-packages (from ipython->ipython-autotime) (2.6.1)\n",
            "Requirement already satisfied: prompt-toolkit<2.0.0,>=1.0.4 in /usr/local/lib/python3.7/dist-packages (from ipython->ipython-autotime) (1.0.18)\n",
            "Requirement already satisfied: pickleshare in /usr/local/lib/python3.7/dist-packages (from ipython->ipython-autotime) (0.7.5)\n",
            "Requirement already satisfied: simplegeneric>0.8 in /usr/local/lib/python3.7/dist-packages (from ipython->ipython-autotime) (0.8.1)\n",
            "Requirement already satisfied: traitlets>=4.2 in /usr/local/lib/python3.7/dist-packages (from ipython->ipython-autotime) (5.0.5)\n",
            "Requirement already satisfied: ptyprocess>=0.5 in /usr/local/lib/python3.7/dist-packages (from pexpect; sys_platform != \"win32\"->ipython->ipython-autotime) (0.7.0)\n",
            "Requirement already satisfied: six>=1.9.0 in /usr/local/lib/python3.7/dist-packages (from prompt-toolkit<2.0.0,>=1.0.4->ipython->ipython-autotime) (1.15.0)\n",
            "Requirement already satisfied: wcwidth in /usr/local/lib/python3.7/dist-packages (from prompt-toolkit<2.0.0,>=1.0.4->ipython->ipython-autotime) (0.2.5)\n",
            "Requirement already satisfied: ipython-genutils in /usr/local/lib/python3.7/dist-packages (from traitlets>=4.2->ipython->ipython-autotime) (0.2.0)\n",
            "Installing collected packages: ipython-autotime\n",
            "Successfully installed ipython-autotime-0.3.1\n",
            "time: 163 µs (started: 2021-05-24 06:05:11 +00:00)\n"
          ],
          "name": "stdout"
        }
      ]
    },
    {
      "cell_type": "code",
      "metadata": {
        "id": "kWBC9j1yF1MG",
        "colab": {
          "base_uri": "https://localhost:8080/"
        },
        "outputId": "376fdb0b-6ece-4028-aee8-22455c995bbc"
      },
      "source": [
        "!mkdir images\n",
        "#Making a directory with name image "
      ],
      "execution_count": 8,
      "outputs": [
        {
          "output_type": "stream",
          "text": [
            "mkdir: cannot create directory ‘img’: File exists\n",
            "time: 116 ms (started: 2021-05-24 06:07:56 +00:00)\n"
          ],
          "name": "stdout"
        }
      ]
    },
    {
      "cell_type": "code",
      "metadata": {
        "id": "RDhctoGJH4KD"
      },
      "source": [
        ""
      ],
      "execution_count": 8,
      "outputs": []
    },
    {
      "cell_type": "code",
      "metadata": {
        "id": "9xSFFoBrNCJW",
        "colab": {
          "base_uri": "https://localhost:8080/"
        },
        "outputId": "2863e8bb-cbf5-4415-f8fc-c4529dec5033"
      },
      "source": [
        "from bing_image_downloader import downloader \n",
        "downloader.download(\"stars\", limit = 30 , output_dir='images ', adult_filter_off= False)"
      ],
      "execution_count": 9,
      "outputs": [
        {
          "output_type": "stream",
          "text": [
            "\n",
            "\n",
            "[!!]Indexing page: 1\n",
            "\n",
            "[%] Indexed 11 Images on Page 1.\n",
            "\n",
            "===============================================\n",
            "\n",
            "[%] Downloading Image #1 from https://images.wallpapersden.com/image/download/landscape-night-moon-stars_59994_950x1534.jpg\n",
            "[%] File Downloaded !\n",
            "\n",
            "[%] Downloading Image #2 from https://cdn.wonderfuldiy.com/wp-content/uploads/2017/04/Paper-mache-hot-air-balloon-.jpeg\n",
            "[%] File Downloaded !\n",
            "\n",
            "[%] Downloading Image #3 from https://www.gratistodo.com/wp-content/uploads/2017/02/Luna-gifs-7.gif\n",
            "[%] File Downloaded !\n",
            "\n",
            "[%] Downloading Image #4 from https://www.bing.com/th/id/OGC.fe7d5780cf7c0ea25b255b33bca6f866?pid=1.7&amp;rurl=https%3a%2f%2fwww.gratistodo.com%2fwp-content%2fuploads%2f2017%2f02%2fLuna-gifs-7.gif&amp;ehk=YgCALoeGTAVwdyMYBB6Y%2bpS4ElYMMDsIpEcgVo457fw%3d\n",
            "[!] Issue getting: https://www.bing.com/th/id/OGC.fe7d5780cf7c0ea25b255b33bca6f866?pid=1.7&amp;rurl=https%3a%2f%2fwww.gratistodo.com%2fwp-content%2fuploads%2f2017%2f02%2fLuna-gifs-7.gif&amp;ehk=YgCALoeGTAVwdyMYBB6Y%2bpS4ElYMMDsIpEcgVo457fw%3d\n",
            "[!] Error:: HTTP Error 404: Not Found\n",
            "[%] Downloading Image #4 from http://sleekdesign.fr/wp-content/uploads/2012/10/tim-walker-story-teller-photo-design-exhibition-rabbit.jpg\n",
            "[%] File Downloaded !\n",
            "\n",
            "[%] Downloading Image #5 from http://www.purseblog.com/images/2014/01/Kim-Kardashian-Hermes-Himalayan-Crocodile-Birkin-Bag-1.jpg\n",
            "[%] File Downloaded !\n",
            "\n",
            "[%] Downloading Image #6 from https://cdn.architecturendesign.net/wp-content/uploads/2014/09/3-eagles-view-suite.jpg\n",
            "[%] File Downloaded !\n",
            "\n",
            "[%] Downloading Image #7 from https://www.uniqhotels.com/media/hotels/06/igloo-hotel-10.jpg\n",
            "[%] File Downloaded !\n",
            "\n",
            "[%] Downloading Image #8 from https://www.99pallets.com/wp-content/uploads/2013/12/pallet-swing-17.jpg\n",
            "[%] File Downloaded !\n",
            "\n",
            "[%] Downloading Image #9 from http://cdn.architecturendesign.net/wp-content/uploads/2015/05/AD-Amazingly-Pretty-Ways-To-Use-String-Lights-11.jpg\n",
            "[%] File Downloaded !\n",
            "\n",
            "[%] Downloading Image #10 from https://www.digsdigs.com/photos/how-to-decorate-with-shells-30-554x741.jpg\n",
            "[%] File Downloaded !\n",
            "\n",
            "\n",
            "\n",
            "[!!]Indexing page: 2\n",
            "\n",
            "[%] Indexed 10 Images on Page 2.\n",
            "\n",
            "===============================================\n",
            "\n",
            "[%] Downloading Image #11 from https://images.wallpapersden.com/image/download/landscape-night-moon-stars_59994_950x1534.jpg\n",
            "[%] File Downloaded !\n",
            "\n",
            "[%] Downloading Image #12 from https://cdn.wonderfuldiy.com/wp-content/uploads/2017/04/Paper-mache-hot-air-balloon-.jpeg\n",
            "[%] File Downloaded !\n",
            "\n",
            "[%] Downloading Image #13 from http://www.tattooeasily.com/wp-content/uploads/2013/08/cloud-tattoo-29.jpg\n",
            "[%] File Downloaded !\n",
            "\n",
            "[%] Downloading Image #14 from http://sleekdesign.fr/wp-content/uploads/2012/10/tim-walker-story-teller-photo-design-exhibition-rabbit.jpg\n",
            "[%] File Downloaded !\n",
            "\n",
            "[%] Downloading Image #15 from https://cdn.architecturendesign.net/wp-content/uploads/2014/09/3-eagles-view-suite.jpg\n",
            "[%] File Downloaded !\n",
            "\n",
            "[%] Downloading Image #16 from https://www.uniqhotels.com/media/hotels/06/igloo-hotel-10.jpg\n",
            "[%] File Downloaded !\n",
            "\n",
            "[%] Downloading Image #17 from https://www.99pallets.com/wp-content/uploads/2013/12/pallet-swing-17.jpg\n",
            "[%] File Downloaded !\n",
            "\n",
            "[%] Downloading Image #18 from http://cdn.architecturendesign.net/wp-content/uploads/2015/05/AD-Amazingly-Pretty-Ways-To-Use-String-Lights-11.jpg\n",
            "[%] File Downloaded !\n",
            "\n",
            "[%] Downloading Image #19 from https://crohasit.com/wp-content/uploads/2019/01/halo-combat-evolved.jpg\n",
            "[%] File Downloaded !\n",
            "\n",
            "[%] Downloading Image #20 from http://www.purseblog.com/images/2014/01/Kim-Kardashian-Hermes-Himalayan-Crocodile-Birkin-Bag-1.jpg\n",
            "[%] File Downloaded !\n",
            "\n",
            "\n",
            "\n",
            "[!!]Indexing page: 3\n",
            "\n",
            "[%] Indexed 9 Images on Page 3.\n",
            "\n",
            "===============================================\n",
            "\n",
            "[%] Downloading Image #21 from http://www.tattooeasily.com/wp-content/uploads/2013/08/cloud-tattoo-29.jpg\n",
            "[%] File Downloaded !\n",
            "\n",
            "[%] Downloading Image #22 from https://crohasit.com/wp-content/uploads/2019/01/halo-combat-evolved.jpg\n",
            "[%] File Downloaded !\n",
            "\n",
            "[%] Downloading Image #23 from https://cdn.architecturendesign.net/wp-content/uploads/2014/09/3-eagles-view-suite.jpg\n",
            "[%] File Downloaded !\n",
            "\n",
            "[%] Downloading Image #24 from https://www.99pallets.com/wp-content/uploads/2013/12/pallet-swing-17.jpg\n",
            "[%] File Downloaded !\n",
            "\n",
            "[%] Downloading Image #25 from https://www.uniqhotels.com/media/hotels/06/igloo-hotel-10.jpg\n",
            "[%] File Downloaded !\n",
            "\n",
            "[%] Downloading Image #26 from http://www.purseblog.com/images/2014/01/Kim-Kardashian-Hermes-Himalayan-Crocodile-Birkin-Bag-1.jpg\n",
            "[%] File Downloaded !\n",
            "\n",
            "[%] Downloading Image #27 from http://cdn.architecturendesign.net/wp-content/uploads/2015/05/AD-Amazingly-Pretty-Ways-To-Use-String-Lights-11.jpg\n",
            "[%] File Downloaded !\n",
            "\n",
            "[%] Downloading Image #28 from http://sleekdesign.fr/wp-content/uploads/2012/10/tim-walker-story-teller-photo-design-exhibition-rabbit.jpg\n",
            "[%] File Downloaded !\n",
            "\n",
            "[%] Downloading Image #29 from https://cdn.wonderfuldiy.com/wp-content/uploads/2017/04/Paper-mache-hot-air-balloon-.jpeg\n",
            "[%] File Downloaded !\n",
            "\n",
            "\n",
            "\n",
            "[!!]Indexing page: 4\n",
            "\n",
            "[%] Indexed 8 Images on Page 4.\n",
            "\n",
            "===============================================\n",
            "\n",
            "[%] Downloading Image #30 from http://thefappening.pro/wp-content/uploads/2019/12/Brooke-Burke-Topless-Sexy-TheFappening.Pro-2-scaled.jpg\n",
            "[%] File Downloaded !\n",
            "\n",
            "\n",
            "\n",
            "[%] Done. Downloaded 30 images.\n",
            "\n",
            "===============================================\n",
            "\n",
            "time: 14.8 s (started: 2021-05-24 06:08:56 +00:00)\n"
          ],
          "name": "stdout"
        }
      ]
    },
    {
      "cell_type": "code",
      "metadata": {
        "id": "HZrr92bcN-Uv",
        "colab": {
          "base_uri": "https://localhost:8080/"
        },
        "outputId": "b225f07e-2029-472e-a207-6ee034d1b4f8"
      },
      "source": [
        "from bing_image_downloader import downloader\n",
        "downloader.download(\"planets\", limit = 30 , output_dir='images ', adult_filter_off= True)"
      ],
      "execution_count": 10,
      "outputs": [
        {
          "output_type": "stream",
          "text": [
            "\n",
            "\n",
            "[!!]Indexing page: 1\n",
            "\n",
            "[%] Indexed 10 Images on Page 1.\n",
            "\n",
            "===============================================\n",
            "\n",
            "[%] Downloading Image #1 from https://wallpapershome.com/images/wallpapers/space-fire-planet-3840x2160-exoplanet-planet-space-stars-11481.jpg\n",
            "[%] File Downloaded !\n",
            "\n",
            "[%] Downloading Image #2 from https://wallpapershome.com/images/wallpapers/planet-1920x1080-galaxy-stars-4k-16848.jpg\n",
            "[%] File Downloaded !\n",
            "\n",
            "[%] Downloading Image #3 from https://www.hdwallpapers.in/download/neon_planet_4k-1366x768.jpg\n",
            "[%] File Downloaded !\n",
            "\n",
            "[%] Downloading Image #4 from https://www.setaswall.com/wp-content/uploads/2018/04/Planets-Wallpaper-1080x2280-380x802.jpg\n",
            "[%] File Downloaded !\n",
            "\n",
            "[%] Downloading Image #5 from https://www.hdwallpapers.in/download/planets_4k-768x1280.jpg\n",
            "[%] File Downloaded !\n",
            "\n",
            "[%] Downloading Image #6 from http://www.wallpapers13.com/wp-content/uploads/2015/12/Sun_explosions_outer_space_planets_solar_flares_wallpaper-87210-1024x768.png\n",
            "[%] File Downloaded !\n",
            "\n",
            "[%] Downloading Image #7 from https://wallpapershome.com/images/wallpapers/planet-1080x1920-galaxy-stars-4k-16848.jpg\n",
            "[%] File Downloaded !\n",
            "\n",
            "[%] Downloading Image #8 from http://i.ytimg.com/vi/ljXLc7ux2PU/maxresdefault.jpg\n",
            "[%] File Downloaded !\n",
            "\n",
            "[%] Downloading Image #9 from https://wallpapershome.com/images/wallpapers/earth-1440x2560-moon-planet-star-5k-16639.jpg\n",
            "[%] File Downloaded !\n",
            "\n",
            "[%] Downloading Image #10 from https://wallpapershome.com/images/wallpapers/spring-flowers-1440x2560-4k-hd-wallpaper-summer-flowers-summer-sun-10140.jpg\n",
            "[%] File Downloaded !\n",
            "\n",
            "\n",
            "\n",
            "[!!]Indexing page: 2\n",
            "\n",
            "[%] Indexed 10 Images on Page 2.\n",
            "\n",
            "===============================================\n",
            "\n",
            "[%] Downloading Image #11 from https://wallpapershome.com/images/wallpapers/space-fire-planet-3840x2160-exoplanet-planet-space-stars-11481.jpg\n",
            "[%] File Downloaded !\n",
            "\n",
            "[%] Downloading Image #12 from https://wallpapershome.com/images/wallpapers/planet-1920x1080-galaxy-stars-4k-16848.jpg\n",
            "[%] File Downloaded !\n",
            "\n",
            "[%] Downloading Image #13 from https://www.hdwallpapers.in/download/neon_planet_4k-1366x768.jpg\n",
            "[%] File Downloaded !\n",
            "\n",
            "[%] Downloading Image #14 from https://www.setaswall.com/wp-content/uploads/2018/04/Planets-Wallpaper-1080x2280-380x802.jpg\n",
            "[%] File Downloaded !\n",
            "\n",
            "[%] Downloading Image #15 from https://www.hdwallpapers.in/download/planets_4k-768x1280.jpg\n",
            "[%] File Downloaded !\n",
            "\n",
            "[%] Downloading Image #16 from http://www.wallpapers13.com/wp-content/uploads/2015/12/Sun_explosions_outer_space_planets_solar_flares_wallpaper-87210-1024x768.png\n",
            "[%] File Downloaded !\n",
            "\n",
            "[%] Downloading Image #17 from https://wallpapershome.com/images/wallpapers/planet-1080x1920-galaxy-stars-4k-16848.jpg\n",
            "[%] File Downloaded !\n",
            "\n",
            "[%] Downloading Image #18 from http://i.ytimg.com/vi/ljXLc7ux2PU/maxresdefault.jpg\n",
            "[%] File Downloaded !\n",
            "\n",
            "[%] Downloading Image #19 from https://wallpapershome.com/images/wallpapers/earth-1440x2560-moon-planet-star-5k-16639.jpg\n",
            "[%] File Downloaded !\n",
            "\n",
            "[%] Downloading Image #20 from https://wallpapershome.com/images/wallpapers/spring-flowers-1440x2560-4k-hd-wallpaper-summer-flowers-summer-sun-10140.jpg\n",
            "[%] File Downloaded !\n",
            "\n",
            "\n",
            "\n",
            "[!!]Indexing page: 3\n",
            "\n",
            "[%] Indexed 9 Images on Page 3.\n",
            "\n",
            "===============================================\n",
            "\n",
            "[%] Downloading Image #21 from https://www.englishclub.com/efl/wp-content/uploads/2017/03/solar-system.png\n",
            "[%] File Downloaded !\n",
            "\n",
            "[%] Downloading Image #22 from https://www.wallpapers13.com/wp-content/uploads/2018/07/Solar-system-with-planets-Mercury-Venus-Earth-Mars-asteroid-belt-Jupiter-Saturn-Uranus-Neptune-and-Pluton-Desktop-Wallpaper-HD-5200x3250-1280x960.jpg\n",
            "[%] File Downloaded !\n",
            "\n",
            "[%] Downloading Image #23 from https://www.slashgear.com/wp-content/uploads/2016/05/mars-hubble.jpg\n",
            "[%] File Downloaded !\n",
            "\n",
            "[%] Downloading Image #24 from https://wallpapershome.com/images/wallpapers/sea-1080x1920-4k-hd-wallpaper-sun-sunset-stones-nature-5191.jpg\n",
            "[%] File Downloaded !\n",
            "\n",
            "[%] Downloading Image #25 from http://i.ytimg.com/vi/DNBde-qdKOs/maxresdefault.jpg\n",
            "[%] File Downloaded !\n",
            "\n",
            "[%] Downloading Image #26 from http://3.bp.blogspot.com/_ThgHLl9IA5o/S6to6tcbzpI/AAAAAAAABdM/8inmDOni1_M/s1600/Sci-Fi+Scenery+by+Z.jpg\n",
            "[%] File Downloaded !\n",
            "\n",
            "[%] Downloading Image #27 from https://wallpapershome.com/images/wallpapers/duck-1920x1080-flight-drops-sun-4661.jpg\n",
            "[%] File Downloaded !\n",
            "\n",
            "[%] Downloading Image #28 from http://www.newdvdreleasedates.com/images/posters/large/war-for-the-planet-of-the-apes-2017-10.jpg\n",
            "[%] File Downloaded !\n",
            "\n",
            "[%] Downloading Image #29 from http://www.sickchirpse.com/wp-content/uploads/2013/05/Uranus1.jpg\n",
            "[%] File Downloaded !\n",
            "\n",
            "\n",
            "\n",
            "[!!]Indexing page: 4\n",
            "\n",
            "[%] Indexed 8 Images on Page 4.\n",
            "\n",
            "===============================================\n",
            "\n",
            "[%] Downloading Image #30 from https://www.hdwallpapers.in/download/planets_4k-768x1280.jpg\n",
            "[%] File Downloaded !\n",
            "\n",
            "\n",
            "\n",
            "[%] Done. Downloaded 30 images.\n",
            "\n",
            "===============================================\n",
            "\n",
            "time: 36.3 s (started: 2021-05-24 06:09:26 +00:00)\n"
          ],
          "name": "stdout"
        }
      ]
    },
    {
      "cell_type": "code",
      "metadata": {
        "id": "4bvR5dbyOxYK",
        "colab": {
          "base_uri": "https://localhost:8080/"
        },
        "outputId": "405977fc-65eb-4ed6-ba8c-51f034dd9b89"
      },
      "source": [
        "# Preprocessing Data\n",
        "#Step 1 - Resizing\n",
        "#Step 2 - Flatting data\n",
        "\n",
        "#importing libraries\n",
        "\n",
        "import os \n",
        "import matplotlib.pyplot as plt \n",
        "import numpy as np \n",
        "from skimage.io import imread \n",
        "from skimage.transform import resize  #to resize images \n",
        "\n",
        "target = []\n",
        "images = []\n",
        "flat_data = []\n",
        "\n",
        "DATADIR = '/content/images '\n",
        "CATEGORIES = ['stars','planets']\n",
        "\n",
        "for category in CATEGORIES:   #To iterate in categories\n",
        "   class_num = CATEGORIES.index(category)  #Labelling categories for easy access\n",
        "   path = os.path.join(DATADIR,category)   #creating a path to iterate via images\n",
        "   for img in os.listdir(path):\n",
        "     img_array = imread(os.path.join(path,img))  #reading images\n",
        "     img_resized = resize(img_array,(150,150,3)) #resizing images\n",
        "     flat_data.append(img_resized.flatten())     #flattening images\n",
        "     images.append(img_resized)\n",
        "     target.append(class_num)\n",
        "\n",
        "flat_data = np.array(flat_data)\n",
        "target = np.array(target)\n",
        "images = np.array(images)\n"
      ],
      "execution_count": 12,
      "outputs": [
        {
          "output_type": "stream",
          "text": [
            "time: 20.5 s (started: 2021-05-24 06:10:57 +00:00)\n"
          ],
          "name": "stdout"
        }
      ]
    },
    {
      "cell_type": "code",
      "metadata": {
        "id": "eyQZ6XdHNgeM",
        "colab": {
          "base_uri": "https://localhost:8080/"
        },
        "outputId": "7cc469c3-f539-494c-acbd-7cb269071a79"
      },
      "source": [
        "from google.colab import drive\n",
        "drive.mount('/content/drive')"
      ],
      "execution_count": 13,
      "outputs": [
        {
          "output_type": "stream",
          "text": [
            "Mounted at /content/drive\n",
            "time: 1min 7s (started: 2021-05-24 06:11:17 +00:00)\n"
          ],
          "name": "stdout"
        }
      ]
    },
    {
      "cell_type": "code",
      "metadata": {
        "colab": {
          "base_uri": "https://localhost:8080/"
        },
        "id": "kPe9uscYXuS2",
        "outputId": "a0103f5b-3c0a-49bc-86d3-fb016994b49a"
      },
      "source": [
        "#Splitting Data into training and testing\n",
        "\n",
        "from sklearn.model_selection import train_test_split\n",
        "x_train,x_test,y_train,y_test = train_test_split(flat_data,target,test_size=0.3,random_state=109)\n",
        "\n"
      ],
      "execution_count": 15,
      "outputs": [
        {
          "output_type": "stream",
          "text": [
            "time: 19.9 ms (started: 2021-05-24 06:12:39 +00:00)\n"
          ],
          "name": "stdout"
        }
      ]
    },
    {
      "cell_type": "code",
      "metadata": {
        "id": "M95Bi_cyZHit",
        "colab": {
          "base_uri": "https://localhost:8080/"
        },
        "outputId": "ae12e92f-a551-4453-b9d6-8be383169abd"
      },
      "source": [
        "from sklearn.model_selection import GridSearchCV\n",
        "from sklearn import svm\n",
        "param_grid = [\n",
        "              { 'C':[1,10,100,1000], 'kernel':['linear']},\n",
        "              { 'C':[1,10,100,1000], 'gamma':[0.001,0.0001],'kernel':['rbf']},\n",
        "\n",
        "]\n",
        "\n",
        "svc = svm.SVC(probability=True)\n",
        "clf = GridSearchCV(svc,param_grid)\n",
        "clf.fit(x_train,y_train)"
      ],
      "execution_count": 16,
      "outputs": [
        {
          "output_type": "execute_result",
          "data": {
            "text/plain": [
              "GridSearchCV(cv=None, error_score=nan,\n",
              "             estimator=SVC(C=1.0, break_ties=False, cache_size=200,\n",
              "                           class_weight=None, coef0=0.0,\n",
              "                           decision_function_shape='ovr', degree=3,\n",
              "                           gamma='scale', kernel='rbf', max_iter=-1,\n",
              "                           probability=True, random_state=None, shrinking=True,\n",
              "                           tol=0.001, verbose=False),\n",
              "             iid='deprecated', n_jobs=None,\n",
              "             param_grid=[{'C': [1, 10, 100, 1000], 'kernel': ['linear']},\n",
              "                         {'C': [1, 10, 100, 1000], 'gamma': [0.001, 0.0001],\n",
              "                          'kernel': ['rbf']}],\n",
              "             pre_dispatch='2*n_jobs', refit=True, return_train_score=False,\n",
              "             scoring=None, verbose=0)"
            ]
          },
          "metadata": {
            "tags": []
          },
          "execution_count": 16
        },
        {
          "output_type": "stream",
          "text": [
            "time: 36.8 s (started: 2021-05-24 06:12:46 +00:00)\n"
          ],
          "name": "stdout"
        }
      ]
    },
    {
      "cell_type": "code",
      "metadata": {
        "colab": {
          "base_uri": "https://localhost:8080/"
        },
        "id": "CTrgU_tDbzZX",
        "outputId": "8d801d4d-6fce-4c99-d03d-b8805ad65132"
      },
      "source": [
        "y_pred = clf.predict(x_test)\n",
        "y_pred"
      ],
      "execution_count": 17,
      "outputs": [
        {
          "output_type": "execute_result",
          "data": {
            "text/plain": [
              "array([0, 0, 0, 1, 0, 0, 1, 0, 0, 1, 1, 1, 0, 0, 1, 0, 0, 0])"
            ]
          },
          "metadata": {
            "tags": []
          },
          "execution_count": 17
        },
        {
          "output_type": "stream",
          "text": [
            "time: 58.6 ms (started: 2021-05-24 06:13:22 +00:00)\n"
          ],
          "name": "stdout"
        }
      ]
    },
    {
      "cell_type": "code",
      "metadata": {
        "colab": {
          "base_uri": "https://localhost:8080/"
        },
        "id": "x3-DkpZucldU",
        "outputId": "4b904e58-175f-4225-d95e-5729cd58c19e"
      },
      "source": [
        "y_test"
      ],
      "execution_count": 19,
      "outputs": [
        {
          "output_type": "execute_result",
          "data": {
            "text/plain": [
              "array([0, 0, 0, 1, 0, 0, 1, 0, 0, 1, 1, 1, 1, 0, 1, 0, 0, 0])"
            ]
          },
          "metadata": {
            "tags": []
          },
          "execution_count": 19
        },
        {
          "output_type": "stream",
          "text": [
            "time: 3.77 ms (started: 2021-05-24 06:13:28 +00:00)\n"
          ],
          "name": "stdout"
        }
      ]
    },
    {
      "cell_type": "code",
      "metadata": {
        "colab": {
          "base_uri": "https://localhost:8080/"
        },
        "id": "vMLPUUXjcm2f",
        "outputId": "3baf3d29-0820-42e7-f471-ff5ca8bb3887"
      },
      "source": [
        "from sklearn.metrics import accuracy_score , confusion_matrix\n",
        "accuracy_score(y_pred,y_test)\n",
        "\n",
        "#Accuracy \n"
      ],
      "execution_count": 21,
      "outputs": [
        {
          "output_type": "execute_result",
          "data": {
            "text/plain": [
              "0.9444444444444444"
            ]
          },
          "metadata": {
            "tags": []
          },
          "execution_count": 21
        },
        {
          "output_type": "stream",
          "text": [
            "time: 6.68 ms (started: 2021-05-24 06:13:35 +00:00)\n"
          ],
          "name": "stdout"
        }
      ]
    },
    {
      "cell_type": "code",
      "metadata": {
        "colab": {
          "base_uri": "https://localhost:8080/"
        },
        "id": "MOd0S-VWdBpg",
        "outputId": "85edcd69-848b-4136-88d0-26b7072a66cc"
      },
      "source": [
        "confusion_matrix(y_pred,y_test)"
      ],
      "execution_count": 22,
      "outputs": [
        {
          "output_type": "execute_result",
          "data": {
            "text/plain": [
              "array([[11,  1],\n",
              "       [ 0,  6]])"
            ]
          },
          "metadata": {
            "tags": []
          },
          "execution_count": 22
        },
        {
          "output_type": "stream",
          "text": [
            "time: 7.99 ms (started: 2021-05-24 06:13:41 +00:00)\n"
          ],
          "name": "stdout"
        }
      ]
    },
    {
      "cell_type": "code",
      "metadata": {
        "colab": {
          "base_uri": "https://localhost:8080/"
        },
        "id": "rzpesB6VdKtj",
        "outputId": "61c9061b-2b62-49ba-e539-006b7c3ab076"
      },
      "source": [
        "import pickle\n",
        "pickle.dump(clf,open('img_model.p', 'wb'))"
      ],
      "execution_count": 24,
      "outputs": [
        {
          "output_type": "stream",
          "text": [
            "time: 28.6 ms (started: 2021-05-24 06:13:47 +00:00)\n"
          ],
          "name": "stdout"
        }
      ]
    },
    {
      "cell_type": "code",
      "metadata": {
        "colab": {
          "base_uri": "https://localhost:8080/"
        },
        "id": "uBoth1XPdkUB",
        "outputId": "fb82d05f-56d6-4579-b26b-28edc399be65"
      },
      "source": [
        "model = pickle.load(open('img_model.p','rb'))"
      ],
      "execution_count": 25,
      "outputs": [
        {
          "output_type": "stream",
          "text": [
            "time: 24.6 ms (started: 2021-05-24 06:13:52 +00:00)\n"
          ],
          "name": "stdout"
        }
      ]
    },
    {
      "cell_type": "code",
      "metadata": {
        "colab": {
          "base_uri": "https://localhost:8080/",
          "height": 357
        },
        "id": "j2G4utNreN70",
        "outputId": "c095be35-eea5-4008-bdd0-fc769b9232d4"
      },
      "source": [
        "#Testing with an image\n",
        "flat_data = []\n",
        "url = input(\"Enter your URL\")\n",
        "img = imread(url)\n",
        "img_resized = resize(img,(150,150,3))\n",
        "flat_data.append(img_resized.flatten())\n",
        "flat_data = np.array(flat_data)\n",
        "print(img.shape)\n",
        "plt.imshow(img_resized)\n",
        "y_out = model.predict(flat_data)\n",
        "y_out = CATEGORIES[y_out[0]]\n",
        "print(f'Predicted Output:{y_out}')"
      ],
      "execution_count": 34,
      "outputs": [
        {
          "output_type": "stream",
          "text": [
            "Enter your URLhttps://images.newscientist.com/wp-content/uploads/2017/06/21180000/planet-10-orange-blue-final-small.jpg?width=600\n",
            "(400, 600, 3)\n",
            "Predicted Output:planets\n"
          ],
          "name": "stdout"
        },
        {
          "output_type": "display_data",
          "data": {
            "image/png": "[encoded data removed]",
            "text/plain": [
              "<Figure size 432x288 with 1 Axes>"
            ]
          },
          "metadata": {
            "tags": [],
            "needs_background": "light"
          }
        },
        {
          "output_type": "stream",
          "text": [
            "time: 4min 2s (started: 2021-05-24 06:34:59 +00:00)\n"
          ],
          "name": "stdout"
        }
      ]
    }
  ]
}